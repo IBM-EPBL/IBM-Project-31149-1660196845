{
  "nbformat": 4,
  "nbformat_minor": 0,
  "metadata": {
    "colab": {
      "provenance": [],
      "collapsed_sections": []
    },
    "kernelspec": {
      "name": "python3",
      "display_name": "Python 3"
    },
    "language_info": {
      "name": "python"
    }
  },
  "cells": [
    {
      "cell_type": "markdown",
      "source": [
        "**PROJECT DEVELOPMENT SPRINT-2**"
      ],
      "metadata": {
        "id": "1IMMq7jvOjr7"
      }
    },
    {
      "cell_type": "markdown",
      "source": [
        "**1. Importing the required libraries**"
      ],
      "metadata": {
        "id": "HIiCT7wiOrN3"
      }
    },
    {
      "cell_type": "code",
      "execution_count": 5,
      "metadata": {
        "id": "MkuOUkkiGEWu"
      },
      "outputs": [],
      "source": [
        "import numpy as np\n",
        "import tensorflow #open source used for both ML and DL for computation\n",
        "from tensorflow.keras.datasets import mnist #mnist dataset\n",
        "from tensorflow.keras.models import Sequential #it is a plain stack of layers\n",
        "from tensorflow.keras import layers #A Layer consists of a tensor- in tensor-out computat ion funct ion\n",
        "from tensorflow.keras.layers import Dense, Flatten #Dense-Dense Layer is the regular deeply connected r\n",
        "#faltten -used fot flattening the input or change the dimension\n",
        "from tensorflow.keras.layers import Conv2D #onvoLutiona l Layer\n",
        "from keras.optimizers import Adam #opt imizer\n",
        "from keras. utils import np_utils #used for one-hot encoding\n",
        "import matplotlib.pyplot as plt   #used for data visualization"
      ]
    },
    {
      "cell_type": "code",
      "source": [
        "(x_train, y_train), (x_test, y_test)=mnist.load_data ()\n",
        "x_train=x_train.reshape (60000, 28, 28, 1).astype('float32')\n",
        "x_test=x_test.reshape (10000, 28, 28, 1).astype ('float32')\n",
        "number_of_classes = 10  #storing the no of classes in a variable\n",
        "y_train = np_utils.to_categorical (y_train, number_of_classes) #converts the output in binary format\n",
        "y_test = np_utils.to_categorical (y_test, number_of_classes)"
      ],
      "metadata": {
        "colab": {
          "base_uri": "https://localhost:8080/"
        },
        "id": "D3TXobzpGPw4",
        "outputId": "6deaea1c-9ec2-4a15-c0bd-5ecf992c4e21"
      },
      "execution_count": 6,
      "outputs": [
        {
          "output_type": "stream",
          "name": "stdout",
          "text": [
            "Downloading data from https://storage.googleapis.com/tensorflow/tf-keras-datasets/mnist.npz\n",
            "11490434/11490434 [==============================] - 0s 0us/step\n"
          ]
        }
      ]
    },
    {
      "cell_type": "markdown",
      "source": [
        "**2. Add CNN Layers**"
      ],
      "metadata": {
        "id": "ZbSM-Ib-PCtr"
      }
    },
    {
      "cell_type": "markdown",
      "source": [
        "Creating the model and adding the input, hidden, and output layers to it. The Sequential model is a linear stack of layers. You can create a Sequential model by passing a list of layer instances to the constructor."
      ],
      "metadata": {
        "id": "O3Y-gRRjPKVo"
      }
    },
    {
      "cell_type": "code",
      "source": [
        "#create model\n",
        "model=Sequential ()\n",
        "#adding modeL Layer\n",
        "model.add(Conv2D(64, (3, 3), input_shape=(28, 28, 1), activation='relu'))\n",
        "model.add(Conv2D(32, (3, 3), activation = 'relu'))\n",
        "#flatten the dimension of the image\n",
        "model.add(Flatten())\n",
        "#output layer with 10 neurons\n",
        "model.add(Dense(number_of_classes,activation = 'softmax'))"
      ],
      "metadata": {
        "id": "0iZkpDQSGdVk"
      },
      "execution_count": 7,
      "outputs": []
    },
    {
      "cell_type": "markdown",
      "source": [
        "**3. Compiling the model**"
      ],
      "metadata": {
        "id": "VsnMBEgTPfFW"
      }
    },
    {
      "cell_type": "markdown",
      "source": [
        "With both the training data defined and model defined, it's time to configure the learning process. This is accomplished with a call to the compile () method of the Sequential model class. Compilation requires 3 arguments: an optimizer, a loss function, and a list of metrics."
      ],
      "metadata": {
        "id": "zM43C_LIPlQF"
      }
    },
    {
      "cell_type": "code",
      "source": [
        "model.compile(loss= 'categorical_crossentropy', optimizer=\"Adam\", metrics=['accuracy'])"
      ],
      "metadata": {
        "id": "XBjbBrhpHH_b"
      },
      "execution_count": 8,
      "outputs": []
    },
    {
      "cell_type": "code",
      "source": [
        "x_train = np.asarray(x_train)\n",
        "y_train = np.asarray(y_train)"
      ],
      "metadata": {
        "id": "daOpe2W8TEW0"
      },
      "execution_count": 9,
      "outputs": []
    },
    {
      "cell_type": "markdown",
      "source": [
        "**4. Train the model**"
      ],
      "metadata": {
        "id": "1qSVw0APPyrd"
      }
    },
    {
      "cell_type": "markdown",
      "source": [
        "Validation_data :  \n",
        "*   an inputs and targets list\n",
        "*   a generator\n",
        "*   inputs, targets, and sample_weights list which can be used to evaluate the loss and \n",
        "*   metrics for any model after any epoch has ended."
      ],
      "metadata": {
        "id": "MMtyqd04QFlM"
      }
    },
    {
      "cell_type": "code",
      "source": [
        "model.fit(x_train, y_train, validation_data=(x_test, y_test), epochs=1, batch_size=32)"
      ],
      "metadata": {
        "colab": {
          "base_uri": "https://localhost:8080/"
        },
        "id": "vmd8HcB5H8K9",
        "outputId": "b9d490a1-cbae-447f-cd5c-830d97c0005d"
      },
      "execution_count": 10,
      "outputs": [
        {
          "output_type": "stream",
          "name": "stdout",
          "text": [
            "1875/1875 [==============================] - 170s 90ms/step - loss: 0.2128 - accuracy: 0.9505 - val_loss: 0.0762 - val_accuracy: 0.9770\n"
          ]
        },
        {
          "output_type": "execute_result",
          "data": {
            "text/plain": [
              "<keras.callbacks.History at 0x7f584d8ffb50>"
            ]
          },
          "metadata": {},
          "execution_count": 10
        }
      ]
    },
    {
      "cell_type": "markdown",
      "source": [
        "**5. Observing the metrics**"
      ],
      "metadata": {
        "id": "D3rk7k7AQ4Pn"
      }
    },
    {
      "cell_type": "markdown",
      "source": [
        "We here are printing the metrics which lists out the Test loss and Test accuracy.\n",
        "*   Loss value implies how poorly or well a model behaves after each iteration of optimization. \n",
        "*   An accuracy metric is used to measure the algorithm's performance in an interpretable way. "
      ],
      "metadata": {
        "id": "h04pYaecRCPe"
      }
    },
    {
      "cell_type": "code",
      "source": [
        "metrics = model.evaluate(x_test, y_test, verbose=0)\n",
        "print(\"Metrics (Test loss &Test Accuracy) : \")\n",
        "print(metrics)"
      ],
      "metadata": {
        "colab": {
          "base_uri": "https://localhost:8080/"
        },
        "id": "wChpvf24IBx2",
        "outputId": "82f6267c-0093-4861-ebc8-247e3401290e"
      },
      "execution_count": 11,
      "outputs": [
        {
          "output_type": "stream",
          "name": "stdout",
          "text": [
            "Metrics (Test loss &Test Accuracy) : \n",
            "[0.07624800503253937, 0.9769999980926514]\n"
          ]
        }
      ]
    },
    {
      "cell_type": "markdown",
      "source": [
        "**6. Test the model**"
      ],
      "metadata": {
        "id": "PeGbhXOZRebP"
      }
    },
    {
      "cell_type": "code",
      "source": [
        "prediction=model.predict(x_test[6000:6001])\n",
        "print(prediction)"
      ],
      "metadata": {
        "colab": {
          "base_uri": "https://localhost:8080/"
        },
        "id": "rVNVvAB-IUox",
        "outputId": "26f2e7e9-efa4-467f-ca08-7197ad6f2c83"
      },
      "execution_count": 12,
      "outputs": [
        {
          "output_type": "stream",
          "name": "stdout",
          "text": [
            "1/1 [==============================] - 0s 90ms/step\n",
            "[[6.6800124e-13 2.1856149e-11 5.2955882e-12 5.2794526e-08 2.0725452e-04\n",
            "  2.0391242e-07 1.9233651e-11 1.0461825e-05 4.6298233e-06 9.9977738e-01]]\n"
          ]
        }
      ]
    },
    {
      "cell_type": "code",
      "source": [
        "print(np.argmax(prediction, axis=1))"
      ],
      "metadata": {
        "colab": {
          "base_uri": "https://localhost:8080/"
        },
        "id": "_fNaYhRqSCln",
        "outputId": "7f4bc515-7fed-4e8d-90d3-e13ff94b6c3b"
      },
      "execution_count": 13,
      "outputs": [
        {
          "output_type": "stream",
          "name": "stdout",
          "text": [
            "[9]\n"
          ]
        }
      ]
    },
    {
      "cell_type": "code",
      "source": [
        "np.argmax(y_test[6000:6001])"
      ],
      "metadata": {
        "colab": {
          "base_uri": "https://localhost:8080/"
        },
        "id": "_9y51qh5SIYm",
        "outputId": "bdd4c773-0edf-456a-9dc7-f3c7dd2309f2"
      },
      "execution_count": 14,
      "outputs": [
        {
          "output_type": "execute_result",
          "data": {
            "text/plain": [
              "9"
            ]
          },
          "metadata": {},
          "execution_count": 14
        }
      ]
    },
    {
      "cell_type": "markdown",
      "source": [
        "**7. Save the model**"
      ],
      "metadata": {
        "id": "G67HKyyfVCfX"
      }
    },
    {
      "cell_type": "markdown",
      "source": [
        "Your model is to be saved for future purposes. This saved model can also be integrated with an android application or web application in order to predict something."
      ],
      "metadata": {
        "id": "mUSMrhraVOH7"
      }
    },
    {
      "cell_type": "code",
      "source": [
        "model.save('C:/Users/Hp/Hand Written Digit Recognition/models/mnistCNN.h5')"
      ],
      "metadata": {
        "id": "FgKzGVtCJCDF"
      },
      "execution_count": 15,
      "outputs": []
    }
  ]
}